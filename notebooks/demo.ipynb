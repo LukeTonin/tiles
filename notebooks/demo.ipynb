{
 "cells": [
  {
   "cell_type": "code",
   "execution_count": 1,
   "id": "4b898729-09f1-4b70-b6a7-7013fdd3466a",
   "metadata": {},
   "outputs": [],
   "source": [
    "%load_ext autoreload\n",
    "%autoreload 2"
   ]
  },
  {
   "cell_type": "code",
   "execution_count": 2,
   "id": "ce936fd9-fa31-45ef-8f18-391acc2cf9ab",
   "metadata": {},
   "outputs": [],
   "source": [
    "import numpy as np\n",
    "\n",
    "test_start_grid = np.array(\n",
    "    [[0, 2, 2, 0],\n",
    "     [0, 2, 2, 0],\n",
    "     [0, 0, 3, 0],\n",
    "     [0, 1, 0, 0],\n",
    "     [0, 0, 0, 0]])\n",
    "\n",
    "test_start_grid_2 = np.array(\n",
    "    [[1, 2, 2, 3],\n",
    "     [1, 2, 2, 3],\n",
    "     [0, 4, 4, 0],\n",
    "     [5, 6, 7, 8],\n",
    "     [5, 9, 10, 8]])\n",
    "\n",
    "test_start_grid_3 = np.array(\n",
    "    [[1, 2, 2, 3],\n",
    "     [1, 2, 2, 3],\n",
    "     [0, 4, 4, 0],\n",
    "     [5, 6, 0, 0],\n",
    "     [5, 9, 10, 0]])\n",
    "\n",
    "test_end_grid = np.array(\n",
    "    [[0, 0, 0, 0],\n",
    "     [0, 0, 0, 0],\n",
    "     [0, 0, 0, 0],\n",
    "     [0, 2, 2, 0],\n",
    "     [0, 2, 2, 0]])\n",
    "\n"
   ]
  },
  {
   "cell_type": "code",
   "execution_count": 3,
   "id": "1ed0ebe3-3cbc-4cc9-869e-39362bf27e94",
   "metadata": {},
   "outputs": [],
   "source": [
    "from tiles.solver import Solver\n",
    "\n",
    "solver = Solver(start_grid=test_start_grid_2, end_grid=test_end_grid)"
   ]
  },
  {
   "cell_type": "code",
   "execution_count": 8,
   "id": "44677071-f6b2-4aae-874e-50ebe5d3ccdb",
   "metadata": {},
   "outputs": [
    {
     "name": "stdout",
     "output_type": "stream",
     "text": [
      "Length of grid path: 123 Num grids analysed: 1240000 Length of queue: 113933 g_cost: 122 h_cost: 0 min_h_cost: 0 \n",
      "Length of grid path: 63 Num grids analysed: 1240000 Length of queue: 113932 g_cost: 62 h_cost: 3 min_h_cost: 0 \n",
      "Length of grid path: 64 Num grids analysed: 1300000 Length of queue: 121490 g_cost: 63 h_cost: 3 min_h_cost: 0 \n",
      "Length of grid path: 64 Num grids analysed: 1320000 Length of queue: 121505 g_cost: 63 h_cost: 3 min_h_cost: 0 \n",
      "Length of grid path: 64 Num grids analysed: 1320000 Length of queue: 121504 g_cost: 63 h_cost: 3 min_h_cost: 0 \n",
      "Length of grid path: 64 Num grids analysed: 1340000 Length of queue: 121763 g_cost: 63 h_cost: 3 min_h_cost: 0 \n",
      "Length of grid path: 64 Num grids analysed: 1360000 Length of queue: 122431 g_cost: 63 h_cost: 3 min_h_cost: 0 \n",
      "Length of grid path: 104 Num grids analysed: 1380000 Length of queue: 123275 g_cost: 103 h_cost: 1 min_h_cost: 0 \n",
      "Length of grid path: 112 Num grids analysed: 1420000 Length of queue: 127724 g_cost: 111 h_cost: 0 min_h_cost: 0 \n",
      "Length of grid path: 112 Num grids analysed: 1420000 Length of queue: 127723 g_cost: 111 h_cost: 0 min_h_cost: 0 \n",
      "Length of grid path: 118 Num grids analysed: 1460000 Length of queue: 131904 g_cost: 117 h_cost: 0 min_h_cost: 0 \n",
      "Length of grid path: 120 Num grids analysed: 1480000 Length of queue: 135163 g_cost: 119 h_cost: 0 min_h_cost: 0 \n",
      "Length of grid path: 120 Num grids analysed: 1480000 Length of queue: 135162 g_cost: 119 h_cost: 0 min_h_cost: 0 \n",
      "Length of grid path: 91 Num grids analysed: 1500000 Length of queue: 139351 g_cost: 90 h_cost: 1 min_h_cost: 0 \n",
      "Length of grid path: 121 Num grids analysed: 1540000 Length of queue: 144354 g_cost: 120 h_cost: 0 min_h_cost: 0 \n",
      "Length of grid path: 104 Num grids analysed: 1580000 Length of queue: 149787 g_cost: 103 h_cost: 1 min_h_cost: 0 \n",
      "Length of grid path: 65 Num grids analysed: 1640000 Length of queue: 156924 g_cost: 64 h_cost: 3 min_h_cost: 0 \n",
      "Length of grid path: 65 Num grids analysed: 1640000 Length of queue: 156923 g_cost: 64 h_cost: 3 min_h_cost: 0 \n",
      "Length of grid path: 105 Num grids analysed: 1700000 Length of queue: 163246 g_cost: 104 h_cost: 1 min_h_cost: 0 \n",
      "Length of grid path: 105 Num grids analysed: 1720000 Length of queue: 166309 g_cost: 104 h_cost: 1 min_h_cost: 0 \n",
      "Length of grid path: 65 Num grids analysed: 1740000 Length of queue: 170331 g_cost: 64 h_cost: 3 min_h_cost: 0 \n",
      "Length of grid path: 125 Num grids analysed: 1740000 Length of queue: 170330 g_cost: 124 h_cost: 0 min_h_cost: 0 \n",
      "Length of grid path: 125 Num grids analysed: 1760000 Length of queue: 168868 g_cost: 124 h_cost: 0 min_h_cost: 0 \n",
      "Length of grid path: 125 Num grids analysed: 1760000 Length of queue: 168867 g_cost: 124 h_cost: 0 min_h_cost: 0 \n",
      "Length of grid path: 122 Num grids analysed: 1780000 Length of queue: 163115 g_cost: 121 h_cost: 0 min_h_cost: 0 \n",
      "Length of grid path: 119 Num grids analysed: 1800000 Length of queue: 164768 g_cost: 118 h_cost: 0 min_h_cost: 0 \n",
      "Length of grid path: 121 Num grids analysed: 1820000 Length of queue: 166626 g_cost: 120 h_cost: 0 min_h_cost: 0 \n",
      "Length of grid path: 66 Num grids analysed: 1840000 Length of queue: 167227 g_cost: 65 h_cost: 3 min_h_cost: 0 \n",
      "Length of grid path: 117 Num grids analysed: 1860000 Length of queue: 170225 g_cost: 116 h_cost: 0 min_h_cost: 0 \n",
      "Length of grid path: 123 Num grids analysed: 1880000 Length of queue: 172063 g_cost: 122 h_cost: 0 min_h_cost: 0 \n",
      "Length of grid path: 123 Num grids analysed: 1880000 Length of queue: 172064 g_cost: 122 h_cost: 0 min_h_cost: 0 \n",
      "Length of grid path: 103 Num grids analysed: 1880000 Length of queue: 172063 g_cost: 102 h_cost: 1 min_h_cost: 0 \n"
     ]
    }
   ],
   "source": [
    "grids = solver.solve(log_frequency=20_000)"
   ]
  },
  {
   "cell_type": "code",
   "execution_count": 5,
   "id": "fb8e01db-3b18-4552-87c1-386b7d500d3e",
   "metadata": {},
   "outputs": [
    {
     "name": "stdout",
     "output_type": "stream",
     "text": [
      "0\n"
     ]
    }
   ],
   "source": [
    "grid_hash = None\n",
    "min_v = float('inf')\n",
    "for h, v in solver.hash_to_h_cost.items():\n",
    "    if v < min_v:\n",
    "        grid_hash = h\n",
    "        min_v = v\n",
    "print(min_v)"
   ]
  },
  {
   "cell_type": "code",
   "execution_count": 12,
   "id": "30d3f915-813c-4a06-a56e-76c7347995d8",
   "metadata": {},
   "outputs": [
    {
     "name": "stdout",
     "output_type": "stream",
     "text": [
      "86\n"
     ]
    }
   ],
   "source": [
    "grid_hash = None\n",
    "min_v = float('inf')\n",
    "for h, v in solver.hash_to_h_cost.items():\n",
    "    if v > 0:\n",
    "        continue\n",
    "    v = solver.hash_to_g_cost[h]\n",
    "    if v < min_v:\n",
    "        grid_hash = h\n",
    "        min_v = v\n",
    "print(min_v)"
   ]
  },
  {
   "cell_type": "code",
   "execution_count": 21,
   "id": "968c6fe6-b1ca-42ca-9a1c-46d5193acfac",
   "metadata": {},
   "outputs": [
    {
     "name": "stderr",
     "output_type": "stream",
     "text": [
      "100%|████████████████████████████████████████████████████████| 1892701/1892701 [00:20<00:00, 93093.82it/s]"
     ]
    },
    {
     "name": "stdout",
     "output_type": "stream",
     "text": [
      "e3c30a483613ab4\n",
      "26145647daaa12f\n"
     ]
    },
    {
     "name": "stderr",
     "output_type": "stream",
     "text": [
      "\n"
     ]
    }
   ],
   "source": [
    "from tiles.solver import get_distance_to_position\n",
    "import functools\n",
    "heuristic_function = functools.partial(\n",
    "    get_distance_to_position,\n",
    "    position_x=solver.end_x,\n",
    "    position_y=solver.end_y,\n",
    "    target_block_value=solver.target_block_value,\n",
    ")\n",
    "import tqdm\n",
    "\n",
    "for h, grid in tqdm.tqdm(solver.hash_to_grid.items()):\n",
    "    if heuristic_function(grid) == 0:\n",
    "        print(h)"
   ]
  },
  {
   "cell_type": "code",
   "execution_count": 38,
   "id": "7eb38fdd-bb16-4e45-8ed3-5c75fe8ba1cf",
   "metadata": {},
   "outputs": [],
   "source": [
    "grid_hash1 = 'e3c30a483613ab4'\n",
    "# grid_hash2 = '26145647daaa12f'"
   ]
  },
  {
   "cell_type": "code",
   "execution_count": 14,
   "id": "2abe708d-1b1b-441d-bae8-3d2eb6948d26",
   "metadata": {},
   "outputs": [
    {
     "name": "stdout",
     "output_type": "stream",
     "text": [
      "86\n",
      "0\n"
     ]
    }
   ],
   "source": [
    "# grid_hash = solver.array_hash_function(grids[-1])\n",
    "# grid_hash = solver.queue[0].grid_hash\n",
    "print(solver.hash_to_g_cost[grid_hash])\n",
    "print(solver.hash_to_h_cost[grid_hash])\n",
    "\n",
    "# solver._pop_from_queue()"
   ]
  },
  {
   "cell_type": "code",
   "execution_count": 39,
   "id": "b8d3a2a6-d08f-40a3-a0fe-028dee310fc9",
   "metadata": {},
   "outputs": [],
   "source": [
    "from tiles.solver import get_grid_path_from_hash\n",
    "grids = get_grid_path_from_hash(\n",
    "    grid_hash=grid_hash, hash_to_parent_hash=solver.hash_to_parent_hash, hash_to_grid=solver.hash_to_grid\n",
    ")"
   ]
  },
  {
   "cell_type": "code",
   "execution_count": 35,
   "id": "10b723b0-b167-45b5-b33e-cd84667a1165",
   "metadata": {},
   "outputs": [
    {
     "data": {
      "text/plain": [
       "array([[ 1,  5,  7,  6],\n",
       "       [ 1,  5,  8,  3],\n",
       "       [ 4,  4,  8,  3],\n",
       "       [ 9,  2,  2,  0],\n",
       "       [10,  2,  2,  0]])"
      ]
     },
     "execution_count": 35,
     "metadata": {},
     "output_type": "execute_result"
    }
   ],
   "source": [
    "grids[-1]"
   ]
  },
  {
   "cell_type": "code",
   "execution_count": 45,
   "id": "db1db6f9-1bc2-45f1-9b0d-e5fd9251bf37",
   "metadata": {},
   "outputs": [
    {
     "data": {
      "text/html": [
       "\n",
       "    <div class=\"bk-root\">\n",
       "        <a href=\"https://bokeh.org\" target=\"_blank\" class=\"bk-logo bk-logo-small bk-logo-notebook\"></a>\n",
       "        <span id=\"2818\">Loading BokehJS ...</span>\n",
       "    </div>"
      ]
     },
     "metadata": {},
     "output_type": "display_data"
    },
    {
     "data": {
      "application/javascript": [
       "\n",
       "(function(root) {\n",
       "  function now() {\n",
       "    return new Date();\n",
       "  }\n",
       "\n",
       "  const force = true;\n",
       "\n",
       "  if (typeof root._bokeh_onload_callbacks === \"undefined\" || force === true) {\n",
       "    root._bokeh_onload_callbacks = [];\n",
       "    root._bokeh_is_loading = undefined;\n",
       "  }\n",
       "\n",
       "  const JS_MIME_TYPE = 'application/javascript';\n",
       "  const HTML_MIME_TYPE = 'text/html';\n",
       "  const EXEC_MIME_TYPE = 'application/vnd.bokehjs_exec.v0+json';\n",
       "  const CLASS_NAME = 'output_bokeh rendered_html';\n",
       "\n",
       "  /**\n",
       "   * Render data to the DOM node\n",
       "   */\n",
       "  function render(props, node) {\n",
       "    const script = document.createElement(\"script\");\n",
       "    node.appendChild(script);\n",
       "  }\n",
       "\n",
       "  /**\n",
       "   * Handle when an output is cleared or removed\n",
       "   */\n",
       "  function handleClearOutput(event, handle) {\n",
       "    const cell = handle.cell;\n",
       "\n",
       "    const id = cell.output_area._bokeh_element_id;\n",
       "    const server_id = cell.output_area._bokeh_server_id;\n",
       "    // Clean up Bokeh references\n",
       "    if (id != null && id in Bokeh.index) {\n",
       "      Bokeh.index[id].model.document.clear();\n",
       "      delete Bokeh.index[id];\n",
       "    }\n",
       "\n",
       "    if (server_id !== undefined) {\n",
       "      // Clean up Bokeh references\n",
       "      const cmd_clean = \"from bokeh.io.state import curstate; print(curstate().uuid_to_server['\" + server_id + \"'].get_sessions()[0].document.roots[0]._id)\";\n",
       "      cell.notebook.kernel.execute(cmd_clean, {\n",
       "        iopub: {\n",
       "          output: function(msg) {\n",
       "            const id = msg.content.text.trim();\n",
       "            if (id in Bokeh.index) {\n",
       "              Bokeh.index[id].model.document.clear();\n",
       "              delete Bokeh.index[id];\n",
       "            }\n",
       "          }\n",
       "        }\n",
       "      });\n",
       "      // Destroy server and session\n",
       "      const cmd_destroy = \"import bokeh.io.notebook as ion; ion.destroy_server('\" + server_id + \"')\";\n",
       "      cell.notebook.kernel.execute(cmd_destroy);\n",
       "    }\n",
       "  }\n",
       "\n",
       "  /**\n",
       "   * Handle when a new output is added\n",
       "   */\n",
       "  function handleAddOutput(event, handle) {\n",
       "    const output_area = handle.output_area;\n",
       "    const output = handle.output;\n",
       "\n",
       "    // limit handleAddOutput to display_data with EXEC_MIME_TYPE content only\n",
       "    if ((output.output_type != \"display_data\") || (!Object.prototype.hasOwnProperty.call(output.data, EXEC_MIME_TYPE))) {\n",
       "      return\n",
       "    }\n",
       "\n",
       "    const toinsert = output_area.element.find(\".\" + CLASS_NAME.split(' ')[0]);\n",
       "\n",
       "    if (output.metadata[EXEC_MIME_TYPE][\"id\"] !== undefined) {\n",
       "      toinsert[toinsert.length - 1].firstChild.textContent = output.data[JS_MIME_TYPE];\n",
       "      // store reference to embed id on output_area\n",
       "      output_area._bokeh_element_id = output.metadata[EXEC_MIME_TYPE][\"id\"];\n",
       "    }\n",
       "    if (output.metadata[EXEC_MIME_TYPE][\"server_id\"] !== undefined) {\n",
       "      const bk_div = document.createElement(\"div\");\n",
       "      bk_div.innerHTML = output.data[HTML_MIME_TYPE];\n",
       "      const script_attrs = bk_div.children[0].attributes;\n",
       "      for (let i = 0; i < script_attrs.length; i++) {\n",
       "        toinsert[toinsert.length - 1].firstChild.setAttribute(script_attrs[i].name, script_attrs[i].value);\n",
       "        toinsert[toinsert.length - 1].firstChild.textContent = bk_div.children[0].textContent\n",
       "      }\n",
       "      // store reference to server id on output_area\n",
       "      output_area._bokeh_server_id = output.metadata[EXEC_MIME_TYPE][\"server_id\"];\n",
       "    }\n",
       "  }\n",
       "\n",
       "  function register_renderer(events, OutputArea) {\n",
       "\n",
       "    function append_mime(data, metadata, element) {\n",
       "      // create a DOM node to render to\n",
       "      const toinsert = this.create_output_subarea(\n",
       "        metadata,\n",
       "        CLASS_NAME,\n",
       "        EXEC_MIME_TYPE\n",
       "      );\n",
       "      this.keyboard_manager.register_events(toinsert);\n",
       "      // Render to node\n",
       "      const props = {data: data, metadata: metadata[EXEC_MIME_TYPE]};\n",
       "      render(props, toinsert[toinsert.length - 1]);\n",
       "      element.append(toinsert);\n",
       "      return toinsert\n",
       "    }\n",
       "\n",
       "    /* Handle when an output is cleared or removed */\n",
       "    events.on('clear_output.CodeCell', handleClearOutput);\n",
       "    events.on('delete.Cell', handleClearOutput);\n",
       "\n",
       "    /* Handle when a new output is added */\n",
       "    events.on('output_added.OutputArea', handleAddOutput);\n",
       "\n",
       "    /**\n",
       "     * Register the mime type and append_mime function with output_area\n",
       "     */\n",
       "    OutputArea.prototype.register_mime_type(EXEC_MIME_TYPE, append_mime, {\n",
       "      /* Is output safe? */\n",
       "      safe: true,\n",
       "      /* Index of renderer in `output_area.display_order` */\n",
       "      index: 0\n",
       "    });\n",
       "  }\n",
       "\n",
       "  // register the mime type if in Jupyter Notebook environment and previously unregistered\n",
       "  if (root.Jupyter !== undefined) {\n",
       "    const events = require('base/js/events');\n",
       "    const OutputArea = require('notebook/js/outputarea').OutputArea;\n",
       "\n",
       "    if (OutputArea.prototype.mime_types().indexOf(EXEC_MIME_TYPE) == -1) {\n",
       "      register_renderer(events, OutputArea);\n",
       "    }\n",
       "  }\n",
       "\n",
       "  \n",
       "  if (typeof (root._bokeh_timeout) === \"undefined\" || force === true) {\n",
       "    root._bokeh_timeout = Date.now() + 5000;\n",
       "    root._bokeh_failed_load = false;\n",
       "  }\n",
       "\n",
       "  const NB_LOAD_WARNING = {'data': {'text/html':\n",
       "     \"<div style='background-color: #fdd'>\\n\"+\n",
       "     \"<p>\\n\"+\n",
       "     \"BokehJS does not appear to have successfully loaded. If loading BokehJS from CDN, this \\n\"+\n",
       "     \"may be due to a slow or bad network connection. Possible fixes:\\n\"+\n",
       "     \"</p>\\n\"+\n",
       "     \"<ul>\\n\"+\n",
       "     \"<li>re-rerun `output_notebook()` to attempt to load from CDN again, or</li>\\n\"+\n",
       "     \"<li>use INLINE resources instead, as so:</li>\\n\"+\n",
       "     \"</ul>\\n\"+\n",
       "     \"<code>\\n\"+\n",
       "     \"from bokeh.resources import INLINE\\n\"+\n",
       "     \"output_notebook(resources=INLINE)\\n\"+\n",
       "     \"</code>\\n\"+\n",
       "     \"</div>\"}};\n",
       "\n",
       "  function display_loaded() {\n",
       "    const el = document.getElementById(\"2818\");\n",
       "    if (el != null) {\n",
       "      el.textContent = \"BokehJS is loading...\";\n",
       "    }\n",
       "    if (root.Bokeh !== undefined) {\n",
       "      if (el != null) {\n",
       "        el.textContent = \"BokehJS \" + root.Bokeh.version + \" successfully loaded.\";\n",
       "      }\n",
       "    } else if (Date.now() < root._bokeh_timeout) {\n",
       "      setTimeout(display_loaded, 100)\n",
       "    }\n",
       "  }\n",
       "\n",
       "\n",
       "  function run_callbacks() {\n",
       "    try {\n",
       "      root._bokeh_onload_callbacks.forEach(function(callback) {\n",
       "        if (callback != null)\n",
       "          callback();\n",
       "      });\n",
       "    } finally {\n",
       "      delete root._bokeh_onload_callbacks\n",
       "    }\n",
       "    console.debug(\"Bokeh: all callbacks have finished\");\n",
       "  }\n",
       "\n",
       "  function load_libs(css_urls, js_urls, callback) {\n",
       "    if (css_urls == null) css_urls = [];\n",
       "    if (js_urls == null) js_urls = [];\n",
       "\n",
       "    root._bokeh_onload_callbacks.push(callback);\n",
       "    if (root._bokeh_is_loading > 0) {\n",
       "      console.debug(\"Bokeh: BokehJS is being loaded, scheduling callback at\", now());\n",
       "      return null;\n",
       "    }\n",
       "    if (js_urls == null || js_urls.length === 0) {\n",
       "      run_callbacks();\n",
       "      return null;\n",
       "    }\n",
       "    console.debug(\"Bokeh: BokehJS not loaded, scheduling load and callback at\", now());\n",
       "    root._bokeh_is_loading = css_urls.length + js_urls.length;\n",
       "\n",
       "    function on_load() {\n",
       "      root._bokeh_is_loading--;\n",
       "      if (root._bokeh_is_loading === 0) {\n",
       "        console.debug(\"Bokeh: all BokehJS libraries/stylesheets loaded\");\n",
       "        run_callbacks()\n",
       "      }\n",
       "    }\n",
       "\n",
       "    function on_error(url) {\n",
       "      console.error(\"failed to load \" + url);\n",
       "    }\n",
       "\n",
       "    for (let i = 0; i < css_urls.length; i++) {\n",
       "      const url = css_urls[i];\n",
       "      const element = document.createElement(\"link\");\n",
       "      element.onload = on_load;\n",
       "      element.onerror = on_error.bind(null, url);\n",
       "      element.rel = \"stylesheet\";\n",
       "      element.type = \"text/css\";\n",
       "      element.href = url;\n",
       "      console.debug(\"Bokeh: injecting link tag for BokehJS stylesheet: \", url);\n",
       "      document.body.appendChild(element);\n",
       "    }\n",
       "\n",
       "    for (let i = 0; i < js_urls.length; i++) {\n",
       "      const url = js_urls[i];\n",
       "      const element = document.createElement('script');\n",
       "      element.onload = on_load;\n",
       "      element.onerror = on_error.bind(null, url);\n",
       "      element.async = false;\n",
       "      element.src = url;\n",
       "      console.debug(\"Bokeh: injecting script tag for BokehJS library: \", url);\n",
       "      document.head.appendChild(element);\n",
       "    }\n",
       "  };\n",
       "\n",
       "  function inject_raw_css(css) {\n",
       "    const element = document.createElement(\"style\");\n",
       "    element.appendChild(document.createTextNode(css));\n",
       "    document.body.appendChild(element);\n",
       "  }\n",
       "\n",
       "  \n",
       "  const js_urls = [\"https://cdn.bokeh.org/bokeh/release/bokeh-2.4.2.min.js\", \"https://cdn.bokeh.org/bokeh/release/bokeh-gl-2.4.2.min.js\", \"https://cdn.bokeh.org/bokeh/release/bokeh-widgets-2.4.2.min.js\", \"https://cdn.bokeh.org/bokeh/release/bokeh-tables-2.4.2.min.js\", \"https://cdn.bokeh.org/bokeh/release/bokeh-mathjax-2.4.2.min.js\"];\n",
       "  const css_urls = [];\n",
       "  \n",
       "\n",
       "  const inline_js = [\n",
       "    function(Bokeh) {\n",
       "      Bokeh.set_log_level(\"info\");\n",
       "    },\n",
       "    function(Bokeh) {\n",
       "    \n",
       "    \n",
       "    }\n",
       "  ];\n",
       "\n",
       "  function run_inline_js() {\n",
       "    \n",
       "    if (root.Bokeh !== undefined || force === true) {\n",
       "      \n",
       "    for (let i = 0; i < inline_js.length; i++) {\n",
       "      inline_js[i].call(root, root.Bokeh);\n",
       "    }\n",
       "    if (force === true) {\n",
       "        display_loaded();\n",
       "      }} else if (Date.now() < root._bokeh_timeout) {\n",
       "      setTimeout(run_inline_js, 100);\n",
       "    } else if (!root._bokeh_failed_load) {\n",
       "      console.log(\"Bokeh: BokehJS failed to load within specified timeout.\");\n",
       "      root._bokeh_failed_load = true;\n",
       "    } else if (force !== true) {\n",
       "      const cell = $(document.getElementById(\"2818\")).parents('.cell').data().cell;\n",
       "      cell.output_area.append_execute_result(NB_LOAD_WARNING)\n",
       "    }\n",
       "\n",
       "  }\n",
       "\n",
       "  if (root._bokeh_is_loading === 0) {\n",
       "    console.debug(\"Bokeh: BokehJS loaded, going straight to plotting\");\n",
       "    run_inline_js();\n",
       "  } else {\n",
       "    load_libs(css_urls, js_urls, function() {\n",
       "      console.debug(\"Bokeh: BokehJS plotting callback run at\", now());\n",
       "      run_inline_js();\n",
       "    });\n",
       "  }\n",
       "}(window));"
      ],
      "application/vnd.bokehjs_load.v0+json": "\n(function(root) {\n  function now() {\n    return new Date();\n  }\n\n  const force = true;\n\n  if (typeof root._bokeh_onload_callbacks === \"undefined\" || force === true) {\n    root._bokeh_onload_callbacks = [];\n    root._bokeh_is_loading = undefined;\n  }\n\n  \n\n  \n  if (typeof (root._bokeh_timeout) === \"undefined\" || force === true) {\n    root._bokeh_timeout = Date.now() + 5000;\n    root._bokeh_failed_load = false;\n  }\n\n  const NB_LOAD_WARNING = {'data': {'text/html':\n     \"<div style='background-color: #fdd'>\\n\"+\n     \"<p>\\n\"+\n     \"BokehJS does not appear to have successfully loaded. If loading BokehJS from CDN, this \\n\"+\n     \"may be due to a slow or bad network connection. Possible fixes:\\n\"+\n     \"</p>\\n\"+\n     \"<ul>\\n\"+\n     \"<li>re-rerun `output_notebook()` to attempt to load from CDN again, or</li>\\n\"+\n     \"<li>use INLINE resources instead, as so:</li>\\n\"+\n     \"</ul>\\n\"+\n     \"<code>\\n\"+\n     \"from bokeh.resources import INLINE\\n\"+\n     \"output_notebook(resources=INLINE)\\n\"+\n     \"</code>\\n\"+\n     \"</div>\"}};\n\n  function display_loaded() {\n    const el = document.getElementById(\"2818\");\n    if (el != null) {\n      el.textContent = \"BokehJS is loading...\";\n    }\n    if (root.Bokeh !== undefined) {\n      if (el != null) {\n        el.textContent = \"BokehJS \" + root.Bokeh.version + \" successfully loaded.\";\n      }\n    } else if (Date.now() < root._bokeh_timeout) {\n      setTimeout(display_loaded, 100)\n    }\n  }\n\n\n  function run_callbacks() {\n    try {\n      root._bokeh_onload_callbacks.forEach(function(callback) {\n        if (callback != null)\n          callback();\n      });\n    } finally {\n      delete root._bokeh_onload_callbacks\n    }\n    console.debug(\"Bokeh: all callbacks have finished\");\n  }\n\n  function load_libs(css_urls, js_urls, callback) {\n    if (css_urls == null) css_urls = [];\n    if (js_urls == null) js_urls = [];\n\n    root._bokeh_onload_callbacks.push(callback);\n    if (root._bokeh_is_loading > 0) {\n      console.debug(\"Bokeh: BokehJS is being loaded, scheduling callback at\", now());\n      return null;\n    }\n    if (js_urls == null || js_urls.length === 0) {\n      run_callbacks();\n      return null;\n    }\n    console.debug(\"Bokeh: BokehJS not loaded, scheduling load and callback at\", now());\n    root._bokeh_is_loading = css_urls.length + js_urls.length;\n\n    function on_load() {\n      root._bokeh_is_loading--;\n      if (root._bokeh_is_loading === 0) {\n        console.debug(\"Bokeh: all BokehJS libraries/stylesheets loaded\");\n        run_callbacks()\n      }\n    }\n\n    function on_error(url) {\n      console.error(\"failed to load \" + url);\n    }\n\n    for (let i = 0; i < css_urls.length; i++) {\n      const url = css_urls[i];\n      const element = document.createElement(\"link\");\n      element.onload = on_load;\n      element.onerror = on_error.bind(null, url);\n      element.rel = \"stylesheet\";\n      element.type = \"text/css\";\n      element.href = url;\n      console.debug(\"Bokeh: injecting link tag for BokehJS stylesheet: \", url);\n      document.body.appendChild(element);\n    }\n\n    for (let i = 0; i < js_urls.length; i++) {\n      const url = js_urls[i];\n      const element = document.createElement('script');\n      element.onload = on_load;\n      element.onerror = on_error.bind(null, url);\n      element.async = false;\n      element.src = url;\n      console.debug(\"Bokeh: injecting script tag for BokehJS library: \", url);\n      document.head.appendChild(element);\n    }\n  };\n\n  function inject_raw_css(css) {\n    const element = document.createElement(\"style\");\n    element.appendChild(document.createTextNode(css));\n    document.body.appendChild(element);\n  }\n\n  \n  const js_urls = [\"https://cdn.bokeh.org/bokeh/release/bokeh-2.4.2.min.js\", \"https://cdn.bokeh.org/bokeh/release/bokeh-gl-2.4.2.min.js\", \"https://cdn.bokeh.org/bokeh/release/bokeh-widgets-2.4.2.min.js\", \"https://cdn.bokeh.org/bokeh/release/bokeh-tables-2.4.2.min.js\", \"https://cdn.bokeh.org/bokeh/release/bokeh-mathjax-2.4.2.min.js\"];\n  const css_urls = [];\n  \n\n  const inline_js = [\n    function(Bokeh) {\n      Bokeh.set_log_level(\"info\");\n    },\n    function(Bokeh) {\n    \n    \n    }\n  ];\n\n  function run_inline_js() {\n    \n    if (root.Bokeh !== undefined || force === true) {\n      \n    for (let i = 0; i < inline_js.length; i++) {\n      inline_js[i].call(root, root.Bokeh);\n    }\n    if (force === true) {\n        display_loaded();\n      }} else if (Date.now() < root._bokeh_timeout) {\n      setTimeout(run_inline_js, 100);\n    } else if (!root._bokeh_failed_load) {\n      console.log(\"Bokeh: BokehJS failed to load within specified timeout.\");\n      root._bokeh_failed_load = true;\n    } else if (force !== true) {\n      const cell = $(document.getElementById(\"2818\")).parents('.cell').data().cell;\n      cell.output_area.append_execute_result(NB_LOAD_WARNING)\n    }\n\n  }\n\n  if (root._bokeh_is_loading === 0) {\n    console.debug(\"Bokeh: BokehJS loaded, going straight to plotting\");\n    run_inline_js();\n  } else {\n    load_libs(css_urls, js_urls, function() {\n      console.debug(\"Bokeh: BokehJS plotting callback run at\", now());\n      run_inline_js();\n    });\n  }\n}(window));"
     },
     "metadata": {},
     "output_type": "display_data"
    },
    {
     "data": {
      "application/vnd.bokehjs_exec.v0+json": "",
      "text/html": [
       "\n",
       "<script id=\"2819\">\n",
       "  (function() {\n",
       "    const xhr = new XMLHttpRequest()\n",
       "    xhr.responseType = 'blob';\n",
       "    xhr.open('GET', \"http://localhost:40795/autoload.js?bokeh-autoload-element=2819&bokeh-absolute-url=http://localhost:40795&resources=none\", true);\n",
       "    \n",
       "    xhr.onload = function (event) {\n",
       "      const script = document.createElement('script');\n",
       "      const src = URL.createObjectURL(event.target.response);\n",
       "      script.src = src;\n",
       "      document.body.appendChild(script);\n",
       "    };\n",
       "    xhr.send();\n",
       "  })();\n",
       "</script>"
      ]
     },
     "metadata": {
      "application/vnd.bokehjs_exec.v0+json": {
       "server_id": "19a850603953432395f30de144719da6"
      }
     },
     "output_type": "display_data"
    }
   ],
   "source": [
    "from bokeh.plotting import show\n",
    "from bokeh.io import output_notebook\n",
    "\n",
    "import numpy as np\n",
    "\n",
    "from tiles.view import modify_document_factory\n",
    "\n",
    "modify_document = modify_document_factory(grids=grids)\n",
    "\n",
    "output_notebook()\n",
    "show(modify_document) # If running this on a remote server, add the url to the Jupyter server with notebook_url='{IP}:{port}'"
   ]
  },
  {
   "cell_type": "code",
   "execution_count": 40,
   "id": "0b8dfe74-95d0-4a7b-903e-0f53954522f1",
   "metadata": {},
   "outputs": [],
   "source": [
    "grid_array = np.stack(grids, axis=-1)"
   ]
  },
  {
   "cell_type": "code",
   "execution_count": 41,
   "id": "078d50a2-3314-4cbf-839e-47a9dad15006",
   "metadata": {},
   "outputs": [
    {
     "data": {
      "text/plain": [
       "(5, 4, 119)"
      ]
     },
     "execution_count": 41,
     "metadata": {},
     "output_type": "execute_result"
    }
   ],
   "source": [
    "grid_array.shape"
   ]
  },
  {
   "cell_type": "code",
   "execution_count": 42,
   "id": "625ec117-119c-4843-8b0f-21599a8b3ac8",
   "metadata": {},
   "outputs": [],
   "source": [
    "np.save('solution2.npy', grid_array)"
   ]
  },
  {
   "cell_type": "code",
   "execution_count": null,
   "id": "a2ad9571-ebb8-444b-84a0-74fa5af4b9d3",
   "metadata": {},
   "outputs": [],
   "source": []
  }
 ],
 "metadata": {
  "kernelspec": {
   "display_name": "Python 3 (ipykernel)",
   "language": "python",
   "name": "python3"
  },
  "language_info": {
   "codemirror_mode": {
    "name": "ipython",
    "version": 3
   },
   "file_extension": ".py",
   "mimetype": "text/x-python",
   "name": "python",
   "nbconvert_exporter": "python",
   "pygments_lexer": "ipython3",
   "version": "3.9.12"
  }
 },
 "nbformat": 4,
 "nbformat_minor": 5
}
